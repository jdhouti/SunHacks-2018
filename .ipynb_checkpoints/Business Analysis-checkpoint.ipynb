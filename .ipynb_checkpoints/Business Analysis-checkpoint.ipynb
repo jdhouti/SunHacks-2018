{
 "cells": [
  {
   "cell_type": "markdown",
   "metadata": {},
   "source": [
    "# Business Analysis\n",
    "In this analysis, we used the Yelp Business dataset to answer some basic hypothesis questions.\n",
    "\n",
    "The hypothesis question addressed in this notebook: Where should a business owner open his restaurant next?\n",
    "To answer this question, we used a combination of the average star reviews in certain states, the kinds of cuisines missing in certain states and the amount of reviews per state."
   ]
  },
  {
   "cell_type": "code",
   "execution_count": 172,
   "metadata": {},
   "outputs": [],
   "source": [
    "# We begin by importing these necessary libraries\n",
    "import pandas as pd\n",
    "import numpy as np\n",
    "import json\n",
    "import matplotlib.pyplot as plt"
   ]
  },
  {
   "cell_type": "code",
   "execution_count": 9,
   "metadata": {},
   "outputs": [],
   "source": [
    "# The data we will be using in this notebook can be found \n",
    "df = pd.read_json('business.json', lines=True)"
   ]
  },
  {
   "cell_type": "code",
   "execution_count": 11,
   "metadata": {},
   "outputs": [
    {
     "data": {
      "text/plain": [
       "array(['address', 'attributes', 'business_id', 'categories', 'city',\n",
       "       'hours', 'is_open', 'latitude', 'longitude', 'name', 'neighborhood',\n",
       "       'postal_code', 'review_count', 'stars', 'state'], dtype=object)"
      ]
     },
     "execution_count": 11,
     "metadata": {},
     "output_type": "execute_result"
    }
   ],
   "source": [
    "# Visualize the columns of the data\n",
    "df.columns.values"
   ]
  },
  {
   "cell_type": "code",
   "execution_count": 14,
   "metadata": {},
   "outputs": [
    {
     "name": "stdout",
     "output_type": "stream",
     "text": [
      "<class 'pandas.core.frame.DataFrame'>\n",
      "Int64Index: 174567 entries, 0 to 174566\n",
      "Data columns (total 15 columns):\n",
      "address         174567 non-null object\n",
      "attributes      174567 non-null object\n",
      "business_id     174567 non-null object\n",
      "categories      174567 non-null object\n",
      "city            174567 non-null object\n",
      "hours           174567 non-null object\n",
      "is_open         174567 non-null int64\n",
      "latitude        174566 non-null float64\n",
      "longitude       174566 non-null float64\n",
      "name            174567 non-null object\n",
      "neighborhood    174567 non-null object\n",
      "postal_code     174567 non-null object\n",
      "review_count    174567 non-null int64\n",
      "stars           174567 non-null float64\n",
      "state           174567 non-null object\n",
      "dtypes: float64(3), int64(2), object(10)\n",
      "memory usage: 21.3+ MB\n"
     ]
    }
   ],
   "source": [
    "# View the type of each column and more information about the dataset\n",
    "df.info()"
   ]
  },
  {
   "cell_type": "code",
   "execution_count": 53,
   "metadata": {},
   "outputs": [
    {
     "data": {
      "text/plain": [
       "Las Vegas     26775\n",
       "Phoenix       17213\n",
       "Toronto       17206\n",
       "Charlotte      8553\n",
       "Scottsdale     8228\n",
       "Name: city, dtype: int64"
      ]
     },
     "execution_count": 53,
     "metadata": {},
     "output_type": "execute_result"
    }
   ],
   "source": [
    "# Count the number of unique cities involved and display top 5\n",
    "df['city'].value_counts(dropna=False).head()"
   ]
  },
  {
   "cell_type": "markdown",
   "metadata": {},
   "source": [
    "We notice from this that the city with the most reviews in the dataset is Las Vegas."
   ]
  },
  {
   "cell_type": "code",
   "execution_count": 87,
   "metadata": {},
   "outputs": [
    {
     "data": {
      "text/html": [
       "<div>\n",
       "<style>\n",
       "    .dataframe thead tr:only-child th {\n",
       "        text-align: right;\n",
       "    }\n",
       "\n",
       "    .dataframe thead th {\n",
       "        text-align: left;\n",
       "    }\n",
       "\n",
       "    .dataframe tbody tr th {\n",
       "        vertical-align: top;\n",
       "    }\n",
       "</style>\n",
       "<table border=\"1\" class=\"dataframe\">\n",
       "  <thead>\n",
       "    <tr style=\"text-align: right;\">\n",
       "      <th></th>\n",
       "      <th>city</th>\n",
       "      <th>stars</th>\n",
       "    </tr>\n",
       "  </thead>\n",
       "  <tbody>\n",
       "    <tr>\n",
       "      <th>428</th>\n",
       "      <td>Las Vegas Nevada</td>\n",
       "      <td>1.0</td>\n",
       "    </tr>\n",
       "    <tr>\n",
       "      <th>417</th>\n",
       "      <td>Lake Norman</td>\n",
       "      <td>1.0</td>\n",
       "    </tr>\n",
       "    <tr>\n",
       "      <th>118</th>\n",
       "      <td>Canonsburd</td>\n",
       "      <td>1.0</td>\n",
       "    </tr>\n",
       "    <tr>\n",
       "      <th>859</th>\n",
       "      <td>Scarborough,</td>\n",
       "      <td>1.0</td>\n",
       "    </tr>\n",
       "    <tr>\n",
       "      <th>987</th>\n",
       "      <td>Totronto</td>\n",
       "      <td>1.0</td>\n",
       "    </tr>\n",
       "  </tbody>\n",
       "</table>\n",
       "</div>"
      ],
      "text/plain": [
       "                 city  stars\n",
       "428  Las Vegas Nevada    1.0\n",
       "417       Lake Norman    1.0\n",
       "118        Canonsburd    1.0\n",
       "859      Scarborough,    1.0\n",
       "987          Totronto    1.0"
      ]
     },
     "execution_count": 87,
     "metadata": {},
     "output_type": "execute_result"
    }
   ],
   "source": [
    "# Find the average star rating in each city\n",
    "average_cities = df.groupby('city').mean().reset_index()\n",
    "average_cities_sorted = average_cities[['city','stars']].sort_values('stars')\n",
    "average_cities_sorted.head()"
   ]
  },
  {
   "cell_type": "code",
   "execution_count": 104,
   "metadata": {},
   "outputs": [
    {
     "data": {
      "text/plain": [
       "array([[<matplotlib.axes._subplots.AxesSubplot object at 0x1189c1320>]], dtype=object)"
      ]
     },
     "execution_count": 104,
     "metadata": {},
     "output_type": "execute_result"
    },
    {
     "data": {
      "image/png": "[encoded data removed]",
      "text/plain": [
       "<matplotlib.figure.Figure at 0x1189bda90>"
      ]
     },
     "metadata": {},
     "output_type": "display_data"
    }
   ],
   "source": [
    "# A histogram describing the frequency of a certain star rating average\n",
    "average_cities_sorted.hist('stars')"
   ]
  },
  {
   "cell_type": "code",
   "execution_count": 130,
   "metadata": {},
   "outputs": [
    {
     "data": {
      "text/html": [
       "<div>\n",
       "<style>\n",
       "    .dataframe thead tr:only-child th {\n",
       "        text-align: right;\n",
       "    }\n",
       "\n",
       "    .dataframe thead th {\n",
       "        text-align: left;\n",
       "    }\n",
       "\n",
       "    .dataframe tbody tr th {\n",
       "        vertical-align: top;\n",
       "    }\n",
       "</style>\n",
       "<table border=\"1\" class=\"dataframe\">\n",
       "  <thead>\n",
       "    <tr style=\"text-align: right;\">\n",
       "      <th></th>\n",
       "      <th>state</th>\n",
       "      <th>address</th>\n",
       "      <th>attributes</th>\n",
       "      <th>business_id</th>\n",
       "      <th>categories</th>\n",
       "      <th>city</th>\n",
       "      <th>hours</th>\n",
       "      <th>is_open</th>\n",
       "      <th>latitude</th>\n",
       "      <th>longitude</th>\n",
       "      <th>name</th>\n",
       "      <th>neighborhood</th>\n",
       "      <th>postal_code</th>\n",
       "      <th>review_count</th>\n",
       "      <th>stars</th>\n",
       "    </tr>\n",
       "  </thead>\n",
       "  <tbody>\n",
       "    <tr>\n",
       "      <th>0</th>\n",
       "      <td></td>\n",
       "      <td>1</td>\n",
       "      <td>1</td>\n",
       "      <td>1</td>\n",
       "      <td>1</td>\n",
       "      <td>1</td>\n",
       "      <td>1</td>\n",
       "      <td>1</td>\n",
       "      <td>1</td>\n",
       "      <td>1</td>\n",
       "      <td>1</td>\n",
       "      <td>1</td>\n",
       "      <td>1</td>\n",
       "      <td>1</td>\n",
       "      <td>1</td>\n",
       "    </tr>\n",
       "    <tr>\n",
       "      <th>1</th>\n",
       "      <td>01</td>\n",
       "      <td>10</td>\n",
       "      <td>10</td>\n",
       "      <td>10</td>\n",
       "      <td>10</td>\n",
       "      <td>10</td>\n",
       "      <td>10</td>\n",
       "      <td>10</td>\n",
       "      <td>10</td>\n",
       "      <td>10</td>\n",
       "      <td>10</td>\n",
       "      <td>10</td>\n",
       "      <td>10</td>\n",
       "      <td>10</td>\n",
       "      <td>10</td>\n",
       "    </tr>\n",
       "    <tr>\n",
       "      <th>2</th>\n",
       "      <td>3</td>\n",
       "      <td>1</td>\n",
       "      <td>1</td>\n",
       "      <td>1</td>\n",
       "      <td>1</td>\n",
       "      <td>1</td>\n",
       "      <td>1</td>\n",
       "      <td>1</td>\n",
       "      <td>1</td>\n",
       "      <td>1</td>\n",
       "      <td>1</td>\n",
       "      <td>1</td>\n",
       "      <td>1</td>\n",
       "      <td>1</td>\n",
       "      <td>1</td>\n",
       "    </tr>\n",
       "    <tr>\n",
       "      <th>3</th>\n",
       "      <td>30</td>\n",
       "      <td>1</td>\n",
       "      <td>1</td>\n",
       "      <td>1</td>\n",
       "      <td>1</td>\n",
       "      <td>1</td>\n",
       "      <td>1</td>\n",
       "      <td>1</td>\n",
       "      <td>1</td>\n",
       "      <td>1</td>\n",
       "      <td>1</td>\n",
       "      <td>1</td>\n",
       "      <td>1</td>\n",
       "      <td>1</td>\n",
       "      <td>1</td>\n",
       "    </tr>\n",
       "    <tr>\n",
       "      <th>4</th>\n",
       "      <td>6</td>\n",
       "      <td>3</td>\n",
       "      <td>3</td>\n",
       "      <td>3</td>\n",
       "      <td>3</td>\n",
       "      <td>3</td>\n",
       "      <td>3</td>\n",
       "      <td>3</td>\n",
       "      <td>3</td>\n",
       "      <td>3</td>\n",
       "      <td>3</td>\n",
       "      <td>3</td>\n",
       "      <td>3</td>\n",
       "      <td>3</td>\n",
       "      <td>3</td>\n",
       "    </tr>\n",
       "  </tbody>\n",
       "</table>\n",
       "</div>"
      ],
      "text/plain": [
       "  state  address  attributes  business_id  categories  city  hours  is_open  \\\n",
       "0              1           1            1           1     1      1        1   \n",
       "1    01       10          10           10          10    10     10       10   \n",
       "2     3        1           1            1           1     1      1        1   \n",
       "3    30        1           1            1           1     1      1        1   \n",
       "4     6        3           3            3           3     3      3        3   \n",
       "\n",
       "   latitude  longitude  name  neighborhood  postal_code  review_count  stars  \n",
       "0         1          1     1             1            1             1      1  \n",
       "1        10         10    10            10           10            10     10  \n",
       "2         1          1     1             1            1             1      1  \n",
       "3         1          1     1             1            1             1      1  \n",
       "4         3          3     3             3            3             3      3  "
      ]
     },
     "execution_count": 130,
     "metadata": {},
     "output_type": "execute_result"
    }
   ],
   "source": [
    "# Now let's find the average star rating by state. This could give the business owner an idea of which state is \n",
    "# lacking and gives a window of opportunity\n",
    "average_state = df.groupby('state').count().reset_index()\n",
    "average_state.head()"
   ]
  },
  {
   "cell_type": "code",
   "execution_count": 131,
   "metadata": {},
   "outputs": [
    {
     "data": {
      "text/plain": [
       "0    AZ\n",
       "1    PA\n",
       "2    AZ\n",
       "3    AZ\n",
       "4    OH\n",
       "Name: state, dtype: object"
      ]
     },
     "execution_count": 131,
     "metadata": {},
     "output_type": "execute_result"
    }
   ],
   "source": [
    "# From the above, we can see that the by state data is very messy. We need to get rid of the data from unknown states\n",
    "# We can do this by creating a list of a states, and then deleting any row that doesn't have one of those states\n",
    "# in that row\n",
    "\n",
    "states_list = [\"AL\", \"AK\", \"AZ\", \"AR\", \"CA\", \"CO\", \"CT\", \"DC\", \"DE\", \"FL\", \"GA\", \n",
    "          \"HI\", \"ID\", \"IL\", \"IN\", \"IA\", \"KS\", \"KY\", \"LA\", \"ME\", \"MD\", \n",
    "          \"MA\", \"MI\", \"MN\", \"MS\", \"MO\", \"MT\", \"NE\", \"NV\", \"NH\", \"NJ\", \n",
    "          \"NM\", \"NY\", \"NC\", \"ND\", \"OH\", \"OK\", \"OR\", \"PA\", \"RI\", \"SC\", \n",
    "          \"SD\", \"TN\", \"TX\", \"UT\", \"VT\", \"VA\", \"WA\", \"WV\", \"WI\", \"WY\"]\n",
    "\n",
    "cleaned_states = df[df.state.isin(states_list)]\n",
    "cleaned_states.state.head()"
   ]
  },
  {
   "cell_type": "code",
   "execution_count": 218,
   "metadata": {},
   "outputs": [
    {
     "data": {
      "text/plain": [
       "0     MN\n",
       "1     VA\n",
       "2     GA\n",
       "3     KY\n",
       "4     NE\n",
       "5     WA\n",
       "6     DE\n",
       "7     CO\n",
       "8     VT\n",
       "9     AL\n",
       "10    MT\n",
       "11    AK\n",
       "12    IN\n",
       "13    AR\n",
       "14    CA\n",
       "15    NY\n",
       "16    FL\n",
       "17    SC\n",
       "18    IL\n",
       "19    WI\n",
       "20    PA\n",
       "21    OH\n",
       "22    NC\n",
       "23    AZ\n",
       "24    NV\n",
       "Name: state, dtype: object"
      ]
     },
     "execution_count": 218,
     "metadata": {},
     "output_type": "execute_result"
    }
   ],
   "source": [
    "# Much better, now let's try the count again\n",
    "state_reviews = cleaned_states.groupby('state').sum().sort_values('review_count')[['review_count']]\n",
    "state_reviews.reset_index().state"
   ]
  },
  {
   "cell_type": "markdown",
   "metadata": {},
   "source": [
    "## Now we organize all of the ratings per state\n",
    "We will create a dictionary with keys for each state, and the values for every state key will be another dictionary with rating values ranging from 1.0 to 5.0 increasing by 0.5, as the keys. This will count the amount of reviews for that rating per state.\n",
    "\n",
    "We do this so that we can create a heatmap."
   ]
  },
  {
   "cell_type": "code",
   "execution_count": 229,
   "metadata": {},
   "outputs": [],
   "source": [
    "ratings = [1, 1.5, 2, 2.5, 3, 3.5, 4, 4.5, 5]\n",
    "states_ratings_count = {}\n",
    "\n",
    "for state in state_reviews.reset_index().state:\n",
    "    states_ratings_count[state] = {}\n",
    "    for rating in ratings:\n",
    "        try:\n",
    "            states_ratings_count[state][str(rating)] = df.groupby(['state', 'stars']).get_group((state, rating)).review_count.sum()\n",
    "        except:\n",
    "            states_ratings_count[state][str(rating)] = 0"
   ]
  },
  {
   "cell_type": "code",
   "execution_count": 221,
   "metadata": {},
   "outputs": [
    {
     "data": {
      "text/plain": [
       "{'MN': {'1': 0,\n",
       "  '1.5': 0,\n",
       "  '2': 0,\n",
       "  '2.5': 0,\n",
       "  '3': 0,\n",
       "  '3.5': 3,\n",
       "  '4': 0,\n",
       "  '4.5': 0,\n",
       "  '5': 0},\n",
       " 'VA': {'1': 0,\n",
       "  '1.5': 0,\n",
       "  '2': 0,\n",
       "  '2.5': 0,\n",
       "  '3': 0,\n",
       "  '3.5': 0,\n",
       "  '4': 3,\n",
       "  '4.5': 0,\n",
       "  '5': 0},\n",
       " 'GA': {'1': 0,\n",
       "  '1.5': 0,\n",
       "  '2': 0,\n",
       "  '2.5': 0,\n",
       "  '3': 0,\n",
       "  '3.5': 0,\n",
       "  '4': 0,\n",
       "  '4.5': 0,\n",
       "  '5': 3},\n",
       " 'KY': {'1': 0,\n",
       "  '1.5': 0,\n",
       "  '2': 0,\n",
       "  '2.5': 0,\n",
       "  '3': 0,\n",
       "  '3.5': 0,\n",
       "  '4': 0,\n",
       "  '4.5': 3,\n",
       "  '5': 0},\n",
       " 'NE': {'1': 0,\n",
       "  '1.5': 0,\n",
       "  '2': 0,\n",
       "  '2.5': 0,\n",
       "  '3': 0,\n",
       "  '3.5': 0,\n",
       "  '4': 4,\n",
       "  '4.5': 0,\n",
       "  '5': 0},\n",
       " 'WA': {'1': 0,\n",
       "  '1.5': 0,\n",
       "  '2': 0,\n",
       "  '2.5': 0,\n",
       "  '3': 0,\n",
       "  '3.5': 0,\n",
       "  '4': 4,\n",
       "  '4.5': 0,\n",
       "  '5': 0},\n",
       " 'DE': {'1': 0,\n",
       "  '1.5': 0,\n",
       "  '2': 0,\n",
       "  '2.5': 0,\n",
       "  '3': 0,\n",
       "  '3.5': 0,\n",
       "  '4': 5,\n",
       "  '4.5': 0,\n",
       "  '5': 0},\n",
       " 'CO': {'1': 0,\n",
       "  '1.5': 0,\n",
       "  '2': 0,\n",
       "  '2.5': 0,\n",
       "  '3': 3,\n",
       "  '3.5': 0,\n",
       "  '4': 0,\n",
       "  '4.5': 3,\n",
       "  '5': 0},\n",
       " 'VT': {'1': 0,\n",
       "  '1.5': 0,\n",
       "  '2': 0,\n",
       "  '2.5': 0,\n",
       "  '3': 0,\n",
       "  '3.5': 3,\n",
       "  '4': 0,\n",
       "  '4.5': 0,\n",
       "  '5': 5},\n",
       " 'AL': {'1': 0,\n",
       "  '1.5': 0,\n",
       "  '2': 0,\n",
       "  '2.5': 0,\n",
       "  '3': 0,\n",
       "  '3.5': 0,\n",
       "  '4': 0,\n",
       "  '4.5': 0,\n",
       "  '5': 10},\n",
       " 'MT': {'1': 0,\n",
       "  '1.5': 0,\n",
       "  '2': 0,\n",
       "  '2.5': 0,\n",
       "  '3': 12,\n",
       "  '3.5': 0,\n",
       "  '4': 0,\n",
       "  '4.5': 0,\n",
       "  '5': 0},\n",
       " 'AK': {'1': 0,\n",
       "  '1.5': 0,\n",
       "  '2': 0,\n",
       "  '2.5': 22,\n",
       "  '3': 0,\n",
       "  '3.5': 0,\n",
       "  '4': 0,\n",
       "  '4.5': 0,\n",
       "  '5': 0},\n",
       " 'IN': {'1': 0,\n",
       "  '1.5': 0,\n",
       "  '2': 0,\n",
       "  '2.5': 6,\n",
       "  '3': 0,\n",
       "  '3.5': 7,\n",
       "  '4': 12,\n",
       "  '4.5': 0,\n",
       "  '5': 0},\n",
       " 'AR': {'1': 0,\n",
       "  '1.5': 19,\n",
       "  '2': 0,\n",
       "  '2.5': 0,\n",
       "  '3': 0,\n",
       "  '3.5': 0,\n",
       "  '4': 0,\n",
       "  '4.5': 0,\n",
       "  '5': 11},\n",
       " 'CA': {'1': 0,\n",
       "  '1.5': 0,\n",
       "  '2': 0,\n",
       "  '2.5': 0,\n",
       "  '3': 0,\n",
       "  '3.5': 3,\n",
       "  '4': 14,\n",
       "  '4.5': 12,\n",
       "  '5': 3},\n",
       " 'NY': {'1': 3,\n",
       "  '1.5': 3,\n",
       "  '2': 28,\n",
       "  '2.5': 39,\n",
       "  '3': 4,\n",
       "  '3.5': 8,\n",
       "  '4': 3,\n",
       "  '4.5': 43,\n",
       "  '5': 5},\n",
       " 'FL': {'1': 0,\n",
       "  '1.5': 557,\n",
       "  '2': 0,\n",
       "  '2.5': 0,\n",
       "  '3': 0,\n",
       "  '3.5': 0,\n",
       "  '4': 0,\n",
       "  '4.5': 0,\n",
       "  '5': 0},\n",
       " 'SC': {'1': 99,\n",
       "  '1.5': 424,\n",
       "  '2': 353,\n",
       "  '2.5': 703,\n",
       "  '3': 2082,\n",
       "  '3.5': 1935,\n",
       "  '4': 2295,\n",
       "  '4.5': 2187,\n",
       "  '5': 779},\n",
       " 'IL': {'1': 244,\n",
       "  '1.5': 704,\n",
       "  '2': 1242,\n",
       "  '2.5': 2063,\n",
       "  '3': 5545,\n",
       "  '3.5': 9360,\n",
       "  '4': 10044,\n",
       "  '4.5': 5617,\n",
       "  '5': 1559},\n",
       " 'WI': {'1': 423,\n",
       "  '1.5': 985,\n",
       "  '2': 2207,\n",
       "  '2.5': 5611,\n",
       "  '3': 12302,\n",
       "  '3.5': 25865,\n",
       "  '4': 40411,\n",
       "  '4.5': 17072,\n",
       "  '5': 4861},\n",
       " 'PA': {'1': 892,\n",
       "  '1.5': 1828,\n",
       "  '2': 5190,\n",
       "  '2.5': 12640,\n",
       "  '3': 27454,\n",
       "  '3.5': 58262,\n",
       "  '4': 70130,\n",
       "  '4.5': 44046,\n",
       "  '5': 9362},\n",
       " 'OH': {'1': 1368,\n",
       "  '1.5': 3146,\n",
       "  '2': 7240,\n",
       "  '2.5': 15086,\n",
       "  '3': 29699,\n",
       "  '3.5': 56280,\n",
       "  '4': 80943,\n",
       "  '4.5': 39129,\n",
       "  '5': 10786},\n",
       " 'NC': {'1': 1662,\n",
       "  '1.5': 4048,\n",
       "  '2': 8666,\n",
       "  '2.5': 19070,\n",
       "  '3': 37029,\n",
       "  '3.5': 74120,\n",
       "  '4': 98051,\n",
       "  '4.5': 50685,\n",
       "  '5': 14095},\n",
       " 'AZ': {'1': 8871,\n",
       "  '1.5': 21150,\n",
       "  '2': 44833,\n",
       "  '2.5': 94306,\n",
       "  '3': 181775,\n",
       "  '3.5': 326510,\n",
       "  '4': 505640,\n",
       "  '4.5': 302402,\n",
       "  '5': 142206},\n",
       " 'NV': {'1': 4863,\n",
       "  '1.5': 18918,\n",
       "  '2': 40656,\n",
       "  '2.5': 111773,\n",
       "  '3': 218047,\n",
       "  '3.5': 398830,\n",
       "  '4': 585234,\n",
       "  '4.5': 334871,\n",
       "  '5': 111195}}"
      ]
     },
     "execution_count": 221,
     "metadata": {},
     "output_type": "execute_result"
    }
   ],
   "source": [
    "states_ratings_count"
   ]
  },
  {
   "cell_type": "code",
   "execution_count": 230,
   "metadata": {},
   "outputs": [],
   "source": [
    "# Now that we have the dictionary, we can create a dataframe for this collection\n",
    "df1 = pd.DataFrame.from_dict(states_ratings_count)\n",
    "# which we can then export as a csv file\n",
    "df1.to_csv('ratings_per_state.csv')"
   ]
  },
  {
   "cell_type": "markdown",
   "metadata": {},
   "source": [
    "## Obtain more insight about the data before we create the heatmap\n",
    "To do this, we will create a histogram of all of the ratings and see which rating is the most common."
   ]
  },
  {
   "cell_type": "code",
   "execution_count": 234,
   "metadata": {},
   "outputs": [],
   "source": [
    "total_ratings = {}\n",
    "for rating in ratings:\n",
    "    total_ratings[str(rating)] = 0\n",
    "    for state in states_ratings_count:\n",
    "        total_ratings[str(rating)] += states_ratings_count[state][str(rating)]"
   ]
  },
  {
   "cell_type": "code",
   "execution_count": 235,
   "metadata": {},
   "outputs": [
    {
     "data": {
      "text/plain": [
       "{'1': 18425,\n",
       " '1.5': 51782,\n",
       " '2': 110415,\n",
       " '2.5': 261319,\n",
       " '3': 513952,\n",
       " '3.5': 951186,\n",
       " '4': 1392793,\n",
       " '4.5': 796070,\n",
       " '5': 294880}"
      ]
     },
     "execution_count": 235,
     "metadata": {},
     "output_type": "execute_result"
    }
   ],
   "source": [
    "total_ratings"
   ]
  },
  {
   "cell_type": "markdown",
   "metadata": {},
   "source": [
    "Now that we have collected the data, we can graph the histogram very easily."
   ]
  },
  {
   "cell_type": "code",
   "execution_count": 258,
   "metadata": {},
   "outputs": [
    {
     "data": {
      "text/plain": [
       "array([[<matplotlib.axes._subplots.AxesSubplot object at 0x1198589b0>]], dtype=object)"
      ]
     },
     "execution_count": 258,
     "metadata": {},
     "output_type": "execute_result"
    },
    {
     "data": {
      "image/png": "[encoded data removed]",
      "text/plain": [
       "<matplotlib.figure.Figure at 0x119855cf8>"
      ]
     },
     "metadata": {},
     "output_type": "display_data"
    }
   ],
   "source": [
    "# first we convert the dictionary to a dataframe\n",
    "df2 = pd.DataFrame.from_dict(total_ratings, orient='index')\n",
    "df2 = df2.reset_index()\n",
    "df2.columns = ['rating', 'review_count']\n",
    "\n",
    "# plot the graph\n",
    "df2.hist(bins=15)"
   ]
  },
  {
   "cell_type": "markdown",
   "metadata": {},
   "source": [
    "This shows the average amount of stars for each state"
   ]
  },
  {
   "cell_type": "markdown",
   "metadata": {},
   "source": [
    "# Find the top categories for 5 star businesses in every state"
   ]
  },
  {
   "cell_type": "code",
   "execution_count": null,
   "metadata": {},
   "outputs": [],
   "source": []
  }
 ],
 "metadata": {
  "kernelspec": {
   "display_name": "Python 3",
   "language": "python",
   "name": "python3"
  },
  "language_info": {
   "codemirror_mode": {
    "name": "ipython",
    "version": 3
   },
   "file_extension": ".py",
   "mimetype": "text/x-python",
   "name": "python",
   "nbconvert_exporter": "python",
   "pygments_lexer": "ipython3",
   "version": "3.6.1"
  }
 },
 "nbformat": 4,
 "nbformat_minor": 2
}
